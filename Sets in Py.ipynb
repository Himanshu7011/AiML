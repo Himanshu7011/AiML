{
 "cells": [
  {
   "cell_type": "markdown",
   "id": "4be6ef6f",
   "metadata": {},
   "source": [
    "#### Set:\n",
    "##### A set is a collection of unique elements, that is, the values cannot repeat. A set can be initialized with a\n",
    "##### list of items enclosed with curly brackets."
   ]
  },
  {
   "cell_type": "code",
   "execution_count": 2,
   "id": "a2a237f2",
   "metadata": {},
   "outputs": [
    {
     "data": {
      "text/plain": [
       "{1, 2, 4, 5, 6}"
      ]
     },
     "execution_count": 2,
     "metadata": {},
     "output_type": "execute_result"
    }
   ],
   "source": [
    "setOfNumbers = {6,1,1,2,4,5}\n",
    "setOfNumbers"
   ]
  },
  {
   "cell_type": "code",
   "execution_count": 9,
   "id": "29ea32b0",
   "metadata": {},
   "outputs": [
    {
     "data": {
      "text/plain": [
       "{'Dhoni',\n",
       " 'Gambhir',\n",
       " 'Kohli',\n",
       " 'Raina',\n",
       " 'Sehwag',\n",
       " 'Tendulkar',\n",
       " 'Yusuf',\n",
       " 'Yuvraj'}"
      ]
     },
     "execution_count": 9,
     "metadata": {},
     "output_type": "execute_result"
    }
   ],
   "source": [
    "wc2011 = {\"Dhoni\", \"Sehwag\", \"Tendulkar\", \"Gambhir\", \"Kohli\", \"Raina\", \"Yuvraj\", \"Yusuf\"}\n",
    "wc2015 = {\"Dhoni\", \"Dhawan\", \"Rohit\", \"Rahane\", \"Kohli\", \"Raina\", \"Rayudu\", \"Jadeja\"}\n"
   ]
  },
  {
   "cell_type": "code",
   "execution_count": 22,
   "id": "915be4b8",
   "metadata": {},
   "outputs": [
    {
     "data": {
      "text/plain": [
       "8"
      ]
     },
     "execution_count": 22,
     "metadata": {},
     "output_type": "execute_result"
    }
   ],
   "source": [
    "wc2015\n",
    "len(wc2015)"
   ]
  },
  {
   "cell_type": "code",
   "execution_count": 21,
   "id": "a6d78714",
   "metadata": {},
   "outputs": [
    {
     "data": {
      "text/plain": [
       "8"
      ]
     },
     "execution_count": 21,
     "metadata": {},
     "output_type": "execute_result"
    }
   ],
   "source": [
    "wc2011\n",
    "len(wc2011)"
   ]
  },
  {
   "cell_type": "code",
   "execution_count": 16,
   "id": "436ae19d",
   "metadata": {},
   "outputs": [],
   "source": [
    "wc2020 = wc2015.union(wc2011)"
   ]
  },
  {
   "cell_type": "code",
   "execution_count": 19,
   "id": "cd5fac55",
   "metadata": {},
   "outputs": [
    {
     "data": {
      "text/plain": [
       "13"
      ]
     },
     "execution_count": 19,
     "metadata": {},
     "output_type": "execute_result"
    }
   ],
   "source": [
    "len(wc2020)"
   ]
  },
  {
   "cell_type": "markdown",
   "id": "0c5690d8",
   "metadata": {},
   "source": [
    "###### To find the list of all batsmen who played for both 2011 and 2015 world cup, we can take intersection of\n",
    "###### these two sets wc2011 and wc2015."
   ]
  },
  {
   "cell_type": "code",
   "execution_count": 23,
   "id": "48ca389b",
   "metadata": {},
   "outputs": [
    {
     "data": {
      "text/plain": [
       "{'Dhoni', 'Kohli', 'Raina'}"
      ]
     },
     "execution_count": 23,
     "metadata": {},
     "output_type": "execute_result"
    }
   ],
   "source": [
    "wc2011.intersection(wc2015)"
   ]
  },
  {
   "cell_type": "code",
   "execution_count": 24,
   "id": "2a298a10",
   "metadata": {},
   "outputs": [
    {
     "data": {
      "text/plain": [
       "{'Dhoni', 'Kohli', 'Raina'}"
      ]
     },
     "execution_count": 24,
     "metadata": {},
     "output_type": "execute_result"
    }
   ],
   "source": [
    "wc2015.intersection(wc2011)"
   ]
  },
  {
   "cell_type": "code",
   "execution_count": 25,
   "id": "07366fdf",
   "metadata": {},
   "outputs": [
    {
     "data": {
      "text/plain": [
       "{'Dhawan', 'Jadeja', 'Rahane', 'Rayudu', 'Rohit'}"
      ]
     },
     "execution_count": 25,
     "metadata": {},
     "output_type": "execute_result"
    }
   ],
   "source": [
    "wc2015.difference(wc2011) # Compare wc2015 with wc2011, and print the non-matching elements of wc2015..."
   ]
  },
  {
   "cell_type": "code",
   "execution_count": 26,
   "id": "5daeb3a6",
   "metadata": {},
   "outputs": [
    {
     "data": {
      "text/plain": [
       "{'Gambhir', 'Sehwag', 'Tendulkar', 'Yusuf', 'Yuvraj'}"
      ]
     },
     "execution_count": 26,
     "metadata": {},
     "output_type": "execute_result"
    }
   ],
   "source": [
    "wc2011.difference(wc2015) # Compare wc2011 with wc2015, and print the non-matching elements of wc2011..."
   ]
  },
  {
   "cell_type": "code",
   "execution_count": 27,
   "id": "96092a6f",
   "metadata": {},
   "outputs": [
    {
     "data": {
      "text/plain": [
       "{'Dhawan', 'Dhoni', 'Jadeja', 'Kohli', 'Rahane', 'Raina', 'Rayudu', 'Rohit'}"
      ]
     },
     "execution_count": 27,
     "metadata": {},
     "output_type": "execute_result"
    }
   ],
   "source": [
    "wc2015"
   ]
  },
  {
   "cell_type": "code",
   "execution_count": 28,
   "id": "84b94bea",
   "metadata": {},
   "outputs": [
    {
     "data": {
      "text/plain": [
       "{'Dhoni',\n",
       " 'Gambhir',\n",
       " 'Kohli',\n",
       " 'Raina',\n",
       " 'Sehwag',\n",
       " 'Tendulkar',\n",
       " 'Yusuf',\n",
       " 'Yuvraj'}"
      ]
     },
     "execution_count": 28,
     "metadata": {},
     "output_type": "execute_result"
    }
   ],
   "source": [
    "wc2011"
   ]
  },
  {
   "cell_type": "code",
   "execution_count": 8,
   "id": "9565376f",
   "metadata": {},
   "outputs": [
    {
     "ename": "NameError",
     "evalue": "name 'wc2011' is not defined",
     "output_type": "error",
     "traceback": [
      "\u001b[1;31m---------------------------------------------------------------------------\u001b[0m",
      "\u001b[1;31mNameError\u001b[0m                                 Traceback (most recent call last)",
      "Input \u001b[1;32mIn [8]\u001b[0m, in \u001b[0;36m<cell line: 1>\u001b[1;34m()\u001b[0m\n\u001b[1;32m----> 1\u001b[0m allInOne \u001b[38;5;241m=\u001b[39m \u001b[43mwc2011\u001b[49m\u001b[38;5;241m+\u001b[39mwc2015\n\u001b[0;32m      2\u001b[0m allInOne\n",
      "\u001b[1;31mNameError\u001b[0m: name 'wc2011' is not defined"
     ]
    }
   ],
   "source": [
    "allInOne = wc2011+wc2015\n",
    "allInOne"
   ]
  },
  {
   "cell_type": "code",
   "execution_count": 9,
   "id": "1a3735d9",
   "metadata": {},
   "outputs": [
    {
     "data": {
      "text/plain": [
       "{'a', 'c', 'f', 'k', 'z'}"
      ]
     },
     "execution_count": 9,
     "metadata": {},
     "output_type": "execute_result"
    }
   ],
   "source": [
    "setOfAlphba = {'a','z','c','f','k'}\n",
    "setOfAlphba"
   ]
  },
  {
   "cell_type": "code",
   "execution_count": 10,
   "id": "5957f96f",
   "metadata": {},
   "outputs": [
    {
     "data": {
      "text/plain": [
       "{0, 1, 2, 3, 4, 5, 6, 7, 8, 9}"
      ]
     },
     "execution_count": 10,
     "metadata": {},
     "output_type": "execute_result"
    }
   ],
   "source": [
    "setOfNumbers = {6,1,1,2,4,5,0,9,7,8,3}\n",
    "setOfNumbers"
   ]
  },
  {
   "cell_type": "code",
   "execution_count": null,
   "id": "9c67c72e",
   "metadata": {},
   "outputs": [],
   "source": []
  }
 ],
 "metadata": {
  "kernelspec": {
   "display_name": "Python 3 (ipykernel)",
   "language": "python",
   "name": "python3"
  },
  "language_info": {
   "codemirror_mode": {
    "name": "ipython",
    "version": 3
   },
   "file_extension": ".py",
   "mimetype": "text/x-python",
   "name": "python",
   "nbconvert_exporter": "python",
   "pygments_lexer": "ipython3",
   "version": "3.9.12"
  }
 },
 "nbformat": 4,
 "nbformat_minor": 5
}
