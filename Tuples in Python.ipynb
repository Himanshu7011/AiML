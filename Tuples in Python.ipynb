{
 "cells": [
  {
   "cell_type": "markdown",
   "id": "ef54df3b",
   "metadata": {},
   "source": [
    "## Tuple in Python\n",
    "#### Tuple is also a list, but it is immutable. Once a tuple has been created it cannot be modified.\n",
    "#### Tuple is created using ('round bracket')"
   ]
  },
  {
   "cell_type": "code",
   "execution_count": 36,
   "id": "04355d99",
   "metadata": {},
   "outputs": [
    {
     "data": {
      "text/plain": [
       "('Kohli', 2008, 'Virat')"
      ]
     },
     "execution_count": 36,
     "metadata": {},
     "output_type": "execute_result"
    }
   ],
   "source": [
    "player = ('Kohli', 2008, 'Virat')\n",
    "player"
   ]
  },
  {
   "cell_type": "code",
   "execution_count": 37,
   "id": "29d6257f",
   "metadata": {},
   "outputs": [
    {
     "data": {
      "text/plain": [
       "'Kohli'"
      ]
     },
     "execution_count": 37,
     "metadata": {},
     "output_type": "execute_result"
    }
   ],
   "source": [
    "player[0] # use square bracket to print the tupple elements."
   ]
  },
  {
   "cell_type": "code",
   "execution_count": 39,
   "id": "2bfb31b8",
   "metadata": {},
   "outputs": [
    {
     "data": {
      "text/plain": [
       "2"
      ]
     },
     "execution_count": 39,
     "metadata": {},
     "output_type": "execute_result"
    }
   ],
   "source": [
    "player[1] # use square bracket to print the tupple elements.\n",
    "player.index('Virat')"
   ]
  },
  {
   "cell_type": "code",
   "execution_count": 26,
   "id": "70e7b83c",
   "metadata": {},
   "outputs": [
    {
     "ename": "TypeError",
     "evalue": "'tuple' object does not support item assignment",
     "output_type": "error",
     "traceback": [
      "\u001b[1;31m---------------------------------------------------------------------------\u001b[0m",
      "\u001b[1;31mTypeError\u001b[0m                                 Traceback (most recent call last)",
      "Input \u001b[1;32mIn [26]\u001b[0m, in \u001b[0;36m<cell line: 1>\u001b[1;34m()\u001b[0m\n\u001b[1;32m----> 1\u001b[0m player[\u001b[38;5;241m1\u001b[39m] \u001b[38;5;241m=\u001b[39m \u001b[38;5;241m1990\u001b[39m\n",
      "\u001b[1;31mTypeError\u001b[0m: 'tuple' object does not support item assignment"
     ]
    }
   ],
   "source": [
    "player[1] = 1990 # player is tuple hence it's elements can't be changed..."
   ]
  },
  {
   "cell_type": "code",
   "execution_count": 27,
   "id": "a4ee500e",
   "metadata": {},
   "outputs": [
    {
     "data": {
      "text/plain": [
       "['Rohit',\n",
       " 'Dhawan',\n",
       " 'Kohli',\n",
       " 'Rahane',\n",
       " 'Rayudu',\n",
       " 'Dhoni',\n",
       " 'Bumrah',\n",
       " 'Shami',\n",
       " 'Bhuvi',\n",
       " 'Kuldeep',\n",
       " 'Chahal']"
      ]
     },
     "execution_count": 27,
     "metadata": {},
     "output_type": "execute_result"
    }
   ],
   "source": [
    "all_players = ['Rohit', 'Dhawan', 'Kohli', 'Rahane', 'Rayudu', 'Dhoni', 'Bumrah', 'Shami', 'Bhuvi', 'Kuldeep', 'Chahal']\n",
    "all_players"
   ]
  },
  {
   "cell_type": "markdown",
   "id": "97b1f8a4",
   "metadata": {},
   "source": [
    "### Is it possible to convert tupple to list or a list to tupple?"
   ]
  },
  {
   "cell_type": "code",
   "execution_count": 28,
   "id": "61a3f5ea",
   "metadata": {},
   "outputs": [
    {
     "data": {
      "text/plain": [
       "('Rohit',\n",
       " 'Dhawan',\n",
       " 'Kohli',\n",
       " 'Rahane',\n",
       " 'Rayudu',\n",
       " 'Dhoni',\n",
       " 'Bumrah',\n",
       " 'Shami',\n",
       " 'Bhuvi',\n",
       " 'Kuldeep',\n",
       " 'Chahal')"
      ]
     },
     "execution_count": 28,
     "metadata": {},
     "output_type": "execute_result"
    }
   ],
   "source": [
    "player = tuple(all_players) # Convert the list to tuple...\n",
    "player"
   ]
  },
  {
   "cell_type": "code",
   "execution_count": 29,
   "id": "3a88254c",
   "metadata": {},
   "outputs": [
    {
     "data": {
      "text/plain": [
       "list['Rohit', 'Dhawan', 'Kohli', 'Rahane', 'Rayudu', 'Dhoni', 'Bumrah', 'Shami', 'Bhuvi', 'Kuldeep', 'Chahal']"
      ]
     },
     "execution_count": 29,
     "metadata": {},
     "output_type": "execute_result"
    }
   ],
   "source": [
    "players_list = list[player] # Convert the tuple to list ...\n",
    "players_list"
   ]
  },
  {
   "cell_type": "code",
   "execution_count": null,
   "id": "94e1d058",
   "metadata": {},
   "outputs": [],
   "source": []
  }
 ],
 "metadata": {
  "kernelspec": {
   "display_name": "Python 3 (ipykernel)",
   "language": "python",
   "name": "python3"
  },
  "language_info": {
   "codemirror_mode": {
    "name": "ipython",
    "version": 3
   },
   "file_extension": ".py",
   "mimetype": "text/x-python",
   "name": "python",
   "nbconvert_exporter": "python",
   "pygments_lexer": "ipython3",
   "version": "3.9.12"
  }
 },
 "nbformat": 4,
 "nbformat_minor": 5
}
