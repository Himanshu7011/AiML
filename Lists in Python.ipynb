{
 "cells": [
  {
   "cell_type": "markdown",
   "id": "fb78a8be",
   "metadata": {},
   "source": [
    "## List\n",
    "\n",
    "Lists are like arrays, but can contain heterogeneous items, that is, a single list can contain items of type\n",
    "integer, float, string, or objects. It is also not a unique set of items, that is, the values can repeat. Lists are\n",
    "mutable and generally initialized with a list of values specified inside square brackets or an empty list.\n",
    "\n",
    "List is intialized with square bracket... "
   ]
  },
  {
   "cell_type": "code",
   "execution_count": 21,
   "id": "5e340644",
   "metadata": {},
   "outputs": [
    {
     "name": "stdout",
     "output_type": "stream",
     "text": [
      "['Rohit', 'Dhawan', 'Kohli', 'Rahane', 'Rayudu', 'Dhoni']\n",
      "batsmen[0]:  Rohit\n"
     ]
    }
   ],
   "source": [
    "batsmen = ['Rohit', 'Dhawan', 'Kohli', 'Rahane', 'Rayudu', 'Dhoni']\n",
    "print(batsmen)\n",
    "print(\"batsmen[0]: \", batsmen[0]) # Print first element from the list."
   ]
  },
  {
   "cell_type": "code",
   "execution_count": 22,
   "id": "0289a1d6",
   "metadata": {},
   "outputs": [
    {
     "name": "stdout",
     "output_type": "stream",
     "text": [
      "['Rohit', 'Dhawan']\n"
     ]
    }
   ],
   "source": [
    "print(batsmen[0:2]) # Print 2 elements starting from element[0]"
   ]
  },
  {
   "cell_type": "code",
   "execution_count": 23,
   "id": "949463c4",
   "metadata": {},
   "outputs": [
    {
     "name": "stdout",
     "output_type": "stream",
     "text": [
      "Dhoni\n"
     ]
    }
   ],
   "source": [
    "print(batsmen[-1]) # Print last element."
   ]
  },
  {
   "cell_type": "code",
   "execution_count": 24,
   "id": "86a27bc8",
   "metadata": {},
   "outputs": [
    {
     "data": {
      "text/plain": [
       "6"
      ]
     },
     "execution_count": 24,
     "metadata": {},
     "output_type": "execute_result"
    }
   ],
   "source": [
    "len(batsmen) # Print the total number of elements for batsmen list..."
   ]
  },
  {
   "cell_type": "code",
   "execution_count": 5,
   "id": "c705cc2f",
   "metadata": {},
   "outputs": [
    {
     "name": "stdout",
     "output_type": "stream",
     "text": [
      "Bowlers:  ['Bumrah', 'Shami', 'Bhuvi', 'Kuldeep', 'Chahal']\n"
     ]
    }
   ],
   "source": [
    "bowlers = ['Bumrah', 'Shami', 'Bhuvi', 'Kuldeep', 'Chahal']\n",
    "print(\"Bowlers: \", bowlers)"
   ]
  },
  {
   "cell_type": "code",
   "execution_count": 6,
   "id": "a4412472",
   "metadata": {},
   "outputs": [
    {
     "ename": "NameError",
     "evalue": "name 'batsmen' is not defined",
     "output_type": "error",
     "traceback": [
      "\u001b[1;31m---------------------------------------------------------------------------\u001b[0m",
      "\u001b[1;31mNameError\u001b[0m                                 Traceback (most recent call last)",
      "Input \u001b[1;32mIn [6]\u001b[0m, in \u001b[0;36m<cell line: 1>\u001b[1;34m()\u001b[0m\n\u001b[1;32m----> 1\u001b[0m all_players \u001b[38;5;241m=\u001b[39m \u001b[43mbatsmen\u001b[49m \u001b[38;5;241m+\u001b[39m bowlers\n\u001b[0;32m      2\u001b[0m \u001b[38;5;28mprint\u001b[39m(\u001b[38;5;124m\"\u001b[39m\u001b[38;5;124mall players: \u001b[39m\u001b[38;5;124m\"\u001b[39m, all_players)\n",
      "\u001b[1;31mNameError\u001b[0m: name 'batsmen' is not defined"
     ]
    }
   ],
   "source": [
    "all_players = batsmen + bowlers\n",
    "print(\"all players: \", all_players) # print in vertical format..."
   ]
  },
  {
   "cell_type": "code",
   "execution_count": 7,
   "id": "84fc877d",
   "metadata": {},
   "outputs": [
    {
     "ename": "NameError",
     "evalue": "name 'all_players' is not defined",
     "output_type": "error",
     "traceback": [
      "\u001b[1;31m---------------------------------------------------------------------------\u001b[0m",
      "\u001b[1;31mNameError\u001b[0m                                 Traceback (most recent call last)",
      "Input \u001b[1;32mIn [7]\u001b[0m, in \u001b[0;36m<cell line: 1>\u001b[1;34m()\u001b[0m\n\u001b[1;32m----> 1\u001b[0m \u001b[38;5;28mlen\u001b[39m(\u001b[43mall_players\u001b[49m)\n",
      "\u001b[1;31mNameError\u001b[0m: name 'all_players' is not defined"
     ]
    }
   ],
   "source": [
    "len(all_players)"
   ]
  },
  {
   "cell_type": "code",
   "execution_count": 8,
   "id": "0eaf565b",
   "metadata": {},
   "outputs": [
    {
     "ename": "NameError",
     "evalue": "name 'all_players' is not defined",
     "output_type": "error",
     "traceback": [
      "\u001b[1;31m---------------------------------------------------------------------------\u001b[0m",
      "\u001b[1;31mNameError\u001b[0m                                 Traceback (most recent call last)",
      "Input \u001b[1;32mIn [8]\u001b[0m, in \u001b[0;36m<cell line: 1>\u001b[1;34m()\u001b[0m\n\u001b[1;32m----> 1\u001b[0m \u001b[43mall_players\u001b[49m\n",
      "\u001b[1;31mNameError\u001b[0m: name 'all_players' is not defined"
     ]
    }
   ],
   "source": [
    "all_players  # print in horizontal format...\n"
   ]
  },
  {
   "cell_type": "code",
   "execution_count": 9,
   "id": "e4f56e37",
   "metadata": {},
   "outputs": [
    {
     "data": {
      "text/plain": [
       "True"
      ]
     },
     "execution_count": 9,
     "metadata": {},
     "output_type": "execute_result"
    }
   ],
   "source": [
    "'Bumrah' in bowlers"
   ]
  },
  {
   "cell_type": "code",
   "execution_count": 10,
   "id": "e18412e2",
   "metadata": {},
   "outputs": [
    {
     "data": {
      "text/plain": [
       "False"
      ]
     },
     "execution_count": 10,
     "metadata": {},
     "output_type": "execute_result"
    }
   ],
   "source": [
    "'bumrah' in bowlers # Case sensitive is considered. Hence false."
   ]
  },
  {
   "cell_type": "code",
   "execution_count": 11,
   "id": "ffd3751b",
   "metadata": {},
   "outputs": [
    {
     "ename": "NameError",
     "evalue": "name 'batsmen' is not defined",
     "output_type": "error",
     "traceback": [
      "\u001b[1;31m---------------------------------------------------------------------------\u001b[0m",
      "\u001b[1;31mNameError\u001b[0m                                 Traceback (most recent call last)",
      "Input \u001b[1;32mIn [11]\u001b[0m, in \u001b[0;36m<cell line: 1>\u001b[1;34m()\u001b[0m\n\u001b[1;32m----> 1\u001b[0m \u001b[38;5;124m'\u001b[39m\u001b[38;5;124mBumrah\u001b[39m\u001b[38;5;124m'\u001b[39m \u001b[38;5;129;01min\u001b[39;00m \u001b[43mbatsmen\u001b[49m\n",
      "\u001b[1;31mNameError\u001b[0m: name 'batsmen' is not defined"
     ]
    }
   ],
   "source": [
    "'Bumrah' in batsmen"
   ]
  },
  {
   "cell_type": "code",
   "execution_count": 12,
   "id": "87c2410d",
   "metadata": {},
   "outputs": [
    {
     "name": "stdout",
     "output_type": "stream",
     "text": [
      "AVAILABLE\n"
     ]
    }
   ],
   "source": [
    "if ('Bumrah' in bowlers):\n",
    "    print('AVAILABLE')\n",
    "else:\n",
    "    print('Not Available')"
   ]
  },
  {
   "cell_type": "code",
   "execution_count": 13,
   "id": "3a3c09b6",
   "metadata": {},
   "outputs": [
    {
     "ename": "NameError",
     "evalue": "name 'batsmen' is not defined",
     "output_type": "error",
     "traceback": [
      "\u001b[1;31m---------------------------------------------------------------------------\u001b[0m",
      "\u001b[1;31mNameError\u001b[0m                                 Traceback (most recent call last)",
      "Input \u001b[1;32mIn [13]\u001b[0m, in \u001b[0;36m<cell line: 1>\u001b[1;34m()\u001b[0m\n\u001b[1;32m----> 1\u001b[0m \u001b[38;5;28;01mif\u001b[39;00m (\u001b[38;5;124m'\u001b[39m\u001b[38;5;124mBumrah\u001b[39m\u001b[38;5;124m'\u001b[39m \u001b[38;5;129;01min\u001b[39;00m \u001b[43mbatsmen\u001b[49m):\n\u001b[0;32m      2\u001b[0m     \u001b[38;5;28mprint\u001b[39m(\u001b[38;5;124m'\u001b[39m\u001b[38;5;124mAVAILABLE\u001b[39m\u001b[38;5;124m'\u001b[39m)\n\u001b[0;32m      3\u001b[0m \u001b[38;5;28;01melse\u001b[39;00m:\n",
      "\u001b[1;31mNameError\u001b[0m: name 'batsmen' is not defined"
     ]
    }
   ],
   "source": [
    "if ('Bumrah' in batsmen):\n",
    "    print('AVAILABLE')\n",
    "else:\n",
    "    print('Not Available')"
   ]
  },
  {
   "cell_type": "code",
   "execution_count": 14,
   "id": "2a9f9e2b",
   "metadata": {},
   "outputs": [
    {
     "ename": "NameError",
     "evalue": "name 'all_players' is not defined",
     "output_type": "error",
     "traceback": [
      "\u001b[1;31m---------------------------------------------------------------------------\u001b[0m",
      "\u001b[1;31mNameError\u001b[0m                                 Traceback (most recent call last)",
      "Input \u001b[1;32mIn [14]\u001b[0m, in \u001b[0;36m<cell line: 1>\u001b[1;34m()\u001b[0m\n\u001b[1;32m----> 1\u001b[0m \u001b[43mall_players\u001b[49m\u001b[38;5;241m.\u001b[39mindex(\u001b[38;5;124m'\u001b[39m\u001b[38;5;124mChahal\u001b[39m\u001b[38;5;124m'\u001b[39m)\n",
      "\u001b[1;31mNameError\u001b[0m: name 'all_players' is not defined"
     ]
    }
   ],
   "source": [
    "all_players.index('Chahal')  # Tell the index of the 'Chahal' element in all_players list."
   ]
  },
  {
   "cell_type": "code",
   "execution_count": 15,
   "id": "e551f119",
   "metadata": {},
   "outputs": [
    {
     "data": {
      "text/plain": [
       "4"
      ]
     },
     "execution_count": 15,
     "metadata": {},
     "output_type": "execute_result"
    }
   ],
   "source": [
    "bowlers.index('Chahal') # Tell the index of the 'Chahal' element in bowlers list."
   ]
  },
  {
   "cell_type": "markdown",
   "id": "7365ed96",
   "metadata": {},
   "source": [
    "#### List manipulation functions.\n",
    "#### Method\tDescription\n",
    "    append()      Adds an element at the end of the list\n",
    "    clear()\t      Removes all the elements from the list\n",
    "    copy()\t      Returns a copy of the list\n",
    "    count()\t      Returns the number of elements with the specified value\n",
    "    extend()\t  Add the elements of a list (or any iterable), to the end of the current list\n",
    "    index()\t      Returns the index of the first element with the specified value\n",
    "    insert()\t  Adds an element at the specified position\n",
    "    pop()\t      Removes the element at the specified position\n",
    "    remove()\t  Removes the first item with the specified value\n",
    "    reverse()\t  Reverses the order of the list\n",
    "    sort()\t      Sorts the list"
   ]
  },
  {
   "cell_type": "code",
   "execution_count": 77,
   "id": "5a17de6d",
   "metadata": {},
   "outputs": [
    {
     "name": "stdout",
     "output_type": "stream",
     "text": [
      "[]\n"
     ]
    }
   ],
   "source": [
    "players.clear() # CLear the all list elements.\n",
    "print(players)"
   ]
  },
  {
   "cell_type": "code",
   "execution_count": 101,
   "id": "1cd68624",
   "metadata": {},
   "outputs": [
    {
     "name": "stdout",
     "output_type": "stream",
     "text": [
      "['Rohit', 'Dhawan', 'Kohli', 'Rahane', 'Rayudu', 'Dhoni']\n"
     ]
    }
   ],
   "source": [
    "# Check all_players list\n",
    "players = ['Rohit', 'Dhawan', 'Kohli', 'Rahane', 'Rayudu', 'Dhoni']\n",
    "print(players)"
   ]
  },
  {
   "cell_type": "code",
   "execution_count": 102,
   "id": "44e946f9",
   "metadata": {},
   "outputs": [
    {
     "name": "stdout",
     "output_type": "stream",
     "text": [
      "['Rohit', 'Dhawan', 'Kohli', 'Rahane', 'Rayudu', 'Dhoni', 'Laxman']\n"
     ]
    }
   ],
   "source": [
    "players.append('Laxman')\n",
    "print(players)"
   ]
  },
  {
   "cell_type": "code",
   "execution_count": 103,
   "id": "4b892adf",
   "metadata": {},
   "outputs": [
    {
     "name": "stdout",
     "output_type": "stream",
     "text": [
      "['Rohit', 'Dhawan', 'Kohli', 'Rahane', 'Rayudu', 'Dhoni', 'Laxman', ['Aman', 'Ankit']]\n"
     ]
    }
   ],
   "source": [
    "cMan = ['Aman', 'Ankit']\n",
    "players.append(cMan)\n",
    "print(players)"
   ]
  },
  {
   "cell_type": "code",
   "execution_count": 104,
   "id": "06e63852",
   "metadata": {},
   "outputs": [
    {
     "data": {
      "text/plain": [
       "['Aman', 'Ankit']"
      ]
     },
     "execution_count": 104,
     "metadata": {},
     "output_type": "execute_result"
    }
   ],
   "source": [
    "players[7]\n"
   ]
  },
  {
   "cell_type": "code",
   "execution_count": 105,
   "id": "2d8d2057",
   "metadata": {},
   "outputs": [
    {
     "data": {
      "text/plain": [
       "['Rohit',\n",
       " 'Dhawan',\n",
       " 'Kohli',\n",
       " 'Rahane',\n",
       " 'Rayudu',\n",
       " 'Dhoni',\n",
       " 'Laxman',\n",
       " ['Aman', 'Ankit']]"
      ]
     },
     "execution_count": 105,
     "metadata": {},
     "output_type": "execute_result"
    }
   ],
   "source": [
    "testDel = players.copy() # Copy the players List elements in testDel\n",
    "testDel"
   ]
  },
  {
   "cell_type": "code",
   "execution_count": 106,
   "id": "7f52b5f0",
   "metadata": {},
   "outputs": [
    {
     "data": {
      "text/plain": [
       "0"
      ]
     },
     "execution_count": 106,
     "metadata": {},
     "output_type": "execute_result"
    }
   ],
   "source": [
    "testDel.count('Aman') # Check count useage..."
   ]
  },
  {
   "cell_type": "code",
   "execution_count": 107,
   "id": "aa9e66ce",
   "metadata": {},
   "outputs": [
    {
     "data": {
      "text/plain": [
       "['Rohit',\n",
       " 'Dhawan',\n",
       " 'Kohli',\n",
       " 'Rahane',\n",
       " 'Rayudu',\n",
       " 'Dhoni',\n",
       " 'Laxman',\n",
       " ['Aman', 'Ankit'],\n",
       " 'P',\n",
       " 'a',\n",
       " 'n',\n",
       " 't']"
      ]
     },
     "execution_count": 107,
     "metadata": {},
     "output_type": "execute_result"
    }
   ],
   "source": [
    "testDel.extend('Pant')\n",
    "testDel"
   ]
  },
  {
   "cell_type": "code",
   "execution_count": 108,
   "id": "45e11ffe",
   "metadata": {},
   "outputs": [
    {
     "data": {
      "text/plain": [
       "2"
      ]
     },
     "execution_count": 108,
     "metadata": {},
     "output_type": "execute_result"
    }
   ],
   "source": [
    "testDel.index('Kohli') #Get the index # of given element..."
   ]
  },
  {
   "cell_type": "code",
   "execution_count": 110,
   "id": "cefd37d0",
   "metadata": {},
   "outputs": [
    {
     "data": {
      "text/plain": [
       "['Rohit',\n",
       " 'Sachin',\n",
       " 'Sachin',\n",
       " 'Dhawan',\n",
       " 'Kohli',\n",
       " 'Rahane',\n",
       " 'Rayudu',\n",
       " 'Dhoni',\n",
       " 'Laxman',\n",
       " ['Aman', 'Ankit'],\n",
       " 'P',\n",
       " 'a',\n",
       " 'n',\n",
       " 't']"
      ]
     },
     "execution_count": 110,
     "metadata": {},
     "output_type": "execute_result"
    }
   ],
   "source": [
    "testDel.insert(1,'Sachin') # Insert the 'Sachin' element at index 1...\n",
    "testDel"
   ]
  },
  {
   "cell_type": "code",
   "execution_count": 111,
   "id": "ea50c7f1",
   "metadata": {},
   "outputs": [
    {
     "data": {
      "text/plain": [
       "'Sachin'"
      ]
     },
     "execution_count": 111,
     "metadata": {},
     "output_type": "execute_result"
    }
   ],
   "source": [
    "testDel.pop(1)"
   ]
  },
  {
   "cell_type": "code",
   "execution_count": 112,
   "id": "b938d9e2",
   "metadata": {},
   "outputs": [
    {
     "data": {
      "text/plain": [
       "['Rohit',\n",
       " 'Sachin',\n",
       " 'Dhawan',\n",
       " 'Kohli',\n",
       " 'Rahane',\n",
       " 'Rayudu',\n",
       " 'Dhoni',\n",
       " 'Laxman',\n",
       " ['Aman', 'Ankit'],\n",
       " 'P',\n",
       " 'a',\n",
       " 'n',\n",
       " 't']"
      ]
     },
     "execution_count": 112,
     "metadata": {},
     "output_type": "execute_result"
    }
   ],
   "source": [
    "testDel"
   ]
  },
  {
   "cell_type": "code",
   "execution_count": 113,
   "id": "9ce9bc4f",
   "metadata": {},
   "outputs": [
    {
     "data": {
      "text/plain": [
       "['Rohit',\n",
       " 'Sachin',\n",
       " 'Dhawan',\n",
       " 'Kohli',\n",
       " 'Rahane',\n",
       " 'Rayudu',\n",
       " 'Dhoni',\n",
       " 'Laxman',\n",
       " 'P',\n",
       " 'a',\n",
       " 'n',\n",
       " 't']"
      ]
     },
     "execution_count": 113,
     "metadata": {},
     "output_type": "execute_result"
    }
   ],
   "source": [
    "testDel.pop(8)\n",
    "testDel"
   ]
  },
  {
   "cell_type": "code",
   "execution_count": 119,
   "id": "6c4153e7",
   "metadata": {},
   "outputs": [
    {
     "data": {
      "text/plain": [
       "['Rohit', 'Sachin', 'Dhawan', 'Kohli', 'Rahane', 'Rayudu', 'Dhoni', 'Laxman']"
      ]
     },
     "execution_count": 119,
     "metadata": {},
     "output_type": "execute_result"
    }
   ],
   "source": [
    "testDel.pop(8) # Remove the 8th Element from the list...\n",
    "testDel"
   ]
  },
  {
   "cell_type": "code",
   "execution_count": 121,
   "id": "73af20ce",
   "metadata": {},
   "outputs": [
    {
     "data": {
      "text/plain": [
       "['Rohit', 'Sachin', 'Dhawan', 'Rahane', 'Rayudu', 'Dhoni', 'Laxman']"
      ]
     },
     "execution_count": 121,
     "metadata": {},
     "output_type": "execute_result"
    }
   ],
   "source": [
    "testDel.remove('Kohli') # Remove the matching elements\n",
    "testDel"
   ]
  },
  {
   "cell_type": "code",
   "execution_count": 126,
   "id": "2d853d6f",
   "metadata": {},
   "outputs": [],
   "source": [
    "testDel.reverse() # Reverse the order of the List..."
   ]
  },
  {
   "cell_type": "code",
   "execution_count": 127,
   "id": "d6263666",
   "metadata": {},
   "outputs": [
    {
     "data": {
      "text/plain": [
       "['Laxman', 'Dhoni', 'Rayudu', 'Rahane', 'Dhawan', 'Sachin', 'Rohit']"
      ]
     },
     "execution_count": 127,
     "metadata": {},
     "output_type": "execute_result"
    }
   ],
   "source": [
    "testDel"
   ]
  },
  {
   "cell_type": "code",
   "execution_count": 129,
   "id": "89e2668b",
   "metadata": {},
   "outputs": [
    {
     "data": {
      "text/plain": [
       "['Dhawan', 'Dhoni', 'Laxman', 'Rahane', 'Rayudu', 'Rohit', 'Sachin']"
      ]
     },
     "execution_count": 129,
     "metadata": {},
     "output_type": "execute_result"
    }
   ],
   "source": [
    "testDel.sort()  # Sort the list elements...\n",
    "testDel"
   ]
  },
  {
   "cell_type": "code",
   "execution_count": 132,
   "id": "acca984a",
   "metadata": {},
   "outputs": [
    {
     "data": {
      "text/plain": [
       "361"
      ]
     },
     "execution_count": 132,
     "metadata": {},
     "output_type": "execute_result"
    }
   ],
   "source": [
    "def squareMe(x):                # def function_name(arguments list):\n",
    "    return(x*x)\n",
    "\n",
    "squareMe(19)"
   ]
  },
  {
   "cell_type": "code",
   "execution_count": 140,
   "id": "475c2aac",
   "metadata": {},
   "outputs": [
    {
     "data": {
      "text/plain": [
       "[1, 4, 9, 16, 25, 36, 49, 64, 81, 100]"
      ]
     },
     "execution_count": 140,
     "metadata": {},
     "output_type": "execute_result"
    }
   ],
   "source": [
    "intList = [1,2,3,4,5,6,7,8,9,10] # Short way to write square function...\n",
    "squareList = map(lambda x: x*x, intList)\n",
    "list(squareList)"
   ]
  },
  {
   "cell_type": "code",
   "execution_count": 142,
   "id": "54b28313",
   "metadata": {},
   "outputs": [
    {
     "data": {
      "text/plain": [
       "[2, 4, 6, 8, 10]"
      ]
     },
     "execution_count": 142,
     "metadata": {},
     "output_type": "execute_result"
    }
   ],
   "source": [
    "evenInts = filter(lambda x : x % 2 == 0, intList) # Lambda function usage for even numbers.\n",
    "list(evenInts)"
   ]
  },
  {
   "cell_type": "code",
   "execution_count": 143,
   "id": "bb55cdc7",
   "metadata": {},
   "outputs": [
    {
     "data": {
      "text/plain": [
       "[1, 3, 5, 7, 9]"
      ]
     },
     "execution_count": 143,
     "metadata": {},
     "output_type": "execute_result"
    }
   ],
   "source": [
    "oddInts = filter(lambda x : x % 2 != 0, intList) # Lambda function usage for odd numbers.\n",
    "list(oddInts)"
   ]
  },
  {
   "cell_type": "code",
   "execution_count": 147,
   "id": "14efa6fc",
   "metadata": {},
   "outputs": [
    {
     "data": {
      "text/plain": [
       "[18, 1, 12, 10, 5, 4, 3, 7, 8, 2]"
      ]
     },
     "execution_count": 147,
     "metadata": {},
     "output_type": "execute_result"
    }
   ],
   "source": [
    "from random import sample    # Way to import the sample lib...\n",
    "sample(range(1,20), 10)"
   ]
  }
 ],
 "metadata": {
  "kernelspec": {
   "display_name": "Python 3 (ipykernel)",
   "language": "python",
   "name": "python3"
  },
  "language_info": {
   "codemirror_mode": {
    "name": "ipython",
    "version": 3
   },
   "file_extension": ".py",
   "mimetype": "text/x-python",
   "name": "python",
   "nbconvert_exporter": "python",
   "pygments_lexer": "ipython3",
   "version": "3.9.12"
  }
 },
 "nbformat": 4,
 "nbformat_minor": 5
}
