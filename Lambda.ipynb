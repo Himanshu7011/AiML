{
 "cells": [
  {
   "cell_type": "markdown",
   "id": "18dbdf65",
   "metadata": {},
   "source": [
    "Lambda Functions are anonymous function means that the function is without a name. As we already know that the def keyword is used to define a normal function in Python. Similarly, the lambda keyword is used to define an anonymous function in Python. \n",
    "\n",
    "lambda arguments : expression\n",
    "\n",
    ">> 1. This function can have any number of arguments but only one expression, which is evaluated and returned.\n",
    ">> 2. One is free to use lambda functions wherever function objects are required.\n",
    ">> 3. You need to keep in your knowledge that lambda functions are syntactically restricted to a single expression.\n",
    ">> 4. It has various uses in particular fields of programming, besides other types of expressions in functions.\n"
   ]
  },
  {
   "cell_type": "code",
   "execution_count": null,
   "id": "d0dd0f29",
   "metadata": {},
   "outputs": [],
   "source": [
    "# Converting string to all upper case using lambda\n",
    "str1 = \"python lambda expression\"\n",
    "upper = lambda str1 : str1.upper()\n",
    "\n",
    "upper(str1)\n"
   ]
  },
  {
   "cell_type": "code",
   "execution_count": null,
   "id": "62a63bc3",
   "metadata": {},
   "outputs": [],
   "source": [
    "# How is this working??\n",
    "format_numeric = lambda num: f\"{num:e}\" if isinstance(num, int) else f\"{num:,.2f}\"\n",
    "\n",
    "print(\"Int formatting:\", format_numeric(1000000))\n",
    "print(\"float formatting:\", format_numeric(999999.789541235))\n"
   ]
  },
  {
   "cell_type": "code",
   "execution_count": null,
   "id": "caeb9603",
   "metadata": {},
   "outputs": [],
   "source": [
    "mylist = range(1, 11)\n",
    "print(mylist)\n",
    "mylist"
   ]
  },
  {
   "cell_type": "code",
   "execution_count": null,
   "id": "1f53a8e7",
   "metadata": {},
   "outputs": [],
   "source": [
    "li = [1,2,3,4,5,6,7,8,9,10]\n",
    "y = [i  for i in li if i % 2 == 1]   ## This is not a part of lambda function.\n",
    "y\n"
   ]
  },
  {
   "cell_type": "code",
   "execution_count": null,
   "id": "8d24197f",
   "metadata": {},
   "outputs": [],
   "source": [
    "y = lambda num: 'Even' if x % 2 == 0 else 'ODD'\n",
    "y(2)\n"
   ]
  },
  {
   "cell_type": "code",
   "execution_count": 146,
   "id": "93b89f04",
   "metadata": {},
   "outputs": [
    {
     "name": "stdout",
     "output_type": "stream",
     "text": [
      "2\n"
     ]
    }
   ],
   "source": [
    "# WAP to check if list if consist of odd number or even number using lambda function!!!\n",
    "li = [1, 2, 3, 4, 5, 6, 7, 8, 9, 10]\n",
    "val = reduce((lambda a, b: a if a % 2 == 0 else b), li)\n",
    "print(val)"
   ]
  },
  {
   "cell_type": "code",
   "execution_count": 145,
   "id": "73042f31",
   "metadata": {},
   "outputs": [
    {
     "name": "stdout",
     "output_type": "stream",
     "text": [
      "[5, 7, 97, 77, 23, 73, 61]\n"
     ]
    }
   ],
   "source": [
    "# WAP to print all odd numbers from the list using lambda.\n",
    "li = [5, 7, 22, 97, 54, 62, 77, 23, 73, 61]\n",
    "final_list = list(filter(lambda x: (x % 2 != 0), li)) ## Use of filter function.\n",
    "print(final_list)"
   ]
  },
  {
   "cell_type": "code",
   "execution_count": 144,
   "id": "b6851ed6",
   "metadata": {},
   "outputs": [
    {
     "name": "stdout",
     "output_type": "stream",
     "text": [
      "[22, 54, 62]\n"
     ]
    }
   ],
   "source": [
    "# WAP to print all even numbers from the list using lambda.\n",
    "li = [5, 7, 22, 97, 54, 62, 77, 23, 73, 61]\n",
    "final_list = list(filter(lambda x: (x % 2 == 0), li))\n",
    "print(final_list)"
   ]
  },
  {
   "cell_type": "code",
   "execution_count": 133,
   "id": "369ee8b0",
   "metadata": {},
   "outputs": [
    {
     "name": "stdout",
     "output_type": "stream",
     "text": [
      "[90, 59, 21, 60]\n"
     ]
    }
   ],
   "source": [
    "# Python 3 code to people above 18 yrs\n",
    "ages = [13, 90, 17, 59, 21, 60, 5]\n",
    "adults = list(filter(lambda x: (x > 18), ages))\n",
    "print(adults)"
   ]
  },
  {
   "cell_type": "code",
   "execution_count": 141,
   "id": "ffe28015",
   "metadata": {},
   "outputs": [
    {
     "name": "stdout",
     "output_type": "stream",
     "text": [
      "Original List:  [5, 7, 22, 97, 54, 62, 77, 23, 73, 61]\n",
      "Doubled List:  [25, 49, 484, 9409, 2916, 3844, 5929, 529, 5329, 3721]\n"
     ]
    }
   ],
   "source": [
    "# Multiply all elements of a list by 2 using lambda and map() function!!!\n",
    "li = [5, 7, 22, 97, 54, 62, 77, 23, 73, 61]\n",
    "final_list = list(map(lambda x: (x**2), li))\n",
    "print(\"Original List: \", li)\n",
    "print(\"Doubled List: \", final_list)"
   ]
  },
  {
   "cell_type": "code",
   "execution_count": 152,
   "id": "bb2e96f9",
   "metadata": {},
   "outputs": [
    {
     "name": "stdout",
     "output_type": "stream",
     "text": [
      "['dOg', 'CAT', 'pArROT', 'RABBIT']\n"
     ]
    }
   ],
   "source": [
    "\n",
    "animals = ['DoG', 'cat', 'PaRrot', 'rabbit']\n",
    "upperCaseList = list(map(lambda anim: (anim.swapcase()), animals))\n",
    "print(upperCaseList)\n"
   ]
  },
  {
   "cell_type": "code",
   "execution_count": null,
   "id": "c04d7b36",
   "metadata": {},
   "outputs": [],
   "source": []
  },
  {
   "cell_type": "raw",
   "id": "e12c97fe",
   "metadata": {},
   "source": [
    "Summary on Lambda and associated functions:\n",
    "\n",
    "functions that can be used with lambda:\n",
    ">> reduce\n",
    ">> filter\n",
    ">> map\n",
    "\n",
    "Are there any other functions that could be used with lambda? If yes, where to find it?"
   ]
  }
 ],
 "metadata": {
  "kernelspec": {
   "display_name": "Python 3 (ipykernel)",
   "language": "python",
   "name": "python3"
  },
  "language_info": {
   "codemirror_mode": {
    "name": "ipython",
    "version": 3
   },
   "file_extension": ".py",
   "mimetype": "text/x-python",
   "name": "python",
   "nbconvert_exporter": "python",
   "pygments_lexer": "ipython3",
   "version": "3.9.12"
  }
 },
 "nbformat": 4,
 "nbformat_minor": 5
}
