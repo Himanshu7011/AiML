{
 "cells": [
  {
   "cell_type": "markdown",
   "id": "5e9f646b",
   "metadata": {},
   "source": [
    "# 29/Oct/2023"
   ]
  },
  {
   "cell_type": "markdown",
   "id": "53975df1",
   "metadata": {},
   "source": [
    "# Plotting"
   ]
  },
  {
   "cell_type": "code",
   "execution_count": null,
   "id": "8173bb5b",
   "metadata": {},
   "outputs": [],
   "source": [
    "import pandas as pd\n",
    "import numpy as np\n",
    "\n",
    "import matplotlib.pyplot as plt\n",
    "import seaborn as sns"
   ]
  },
  {
   "cell_type": "code",
   "execution_count": null,
   "id": "560fdbfa",
   "metadata": {},
   "outputs": [],
   "source": [
    "df1 = pd.read_csv('https://raw.githubusercontent.com/vcsgithub/vcsgithub.github.io/master/lds41.csv')\n",
    "df1"
   ]
  },
  {
   "cell_type": "markdown",
   "id": "25ea00d3",
   "metadata": {},
   "source": [
    "# Scatter plot"
   ]
  },
  {
   "cell_type": "code",
   "execution_count": null,
   "id": "c401124b",
   "metadata": {},
   "outputs": [],
   "source": [
    "x1 = np.array([1,2,3,4,5])\n",
    "y1 = x1 * 2\n",
    "y2 = x1 ** 2"
   ]
  },
  {
   "cell_type": "code",
   "execution_count": null,
   "id": "b00732ac",
   "metadata": {},
   "outputs": [],
   "source": [
    "plt.scatter(x=x1, y=y1, color='red', label='linear plot', marker='D')\n",
    "plt.scatter(x=x1, y=y2, color='#ffff00', label='expo plot', marker='>')\n",
    "\n",
    "plt.legend()\n",
    "\n",
    "plt.savefig('first.png')\n",
    "plt.show()"
   ]
  },
  {
   "cell_type": "code",
   "execution_count": null,
   "id": "7bbf5e93",
   "metadata": {},
   "outputs": [],
   "source": [
    "plt.plot()"
   ]
  },
  {
   "cell_type": "code",
   "execution_count": null,
   "id": "35ff236d",
   "metadata": {},
   "outputs": [],
   "source": [
    "f = plt.gcf()\n",
    "print(f)"
   ]
  },
  {
   "cell_type": "code",
   "execution_count": null,
   "id": "a342dbdb",
   "metadata": {},
   "outputs": [],
   "source": [
    "plt.scatter(x=df1.gear, y=df1.mpg)\n",
    "plt.show()"
   ]
  },
  {
   "cell_type": "code",
   "execution_count": null,
   "id": "280613dc",
   "metadata": {},
   "outputs": [],
   "source": [
    "df1.gear.value_counts()"
   ]
  },
  {
   "cell_type": "code",
   "execution_count": null,
   "id": "70515428",
   "metadata": {},
   "outputs": [],
   "source": [
    "df1.plot(kind='scatter',x='gear',y='mpg')\n",
    "plt.text(df1.loc[0,'gear'], df1.loc[0,'mpg'],df1.loc[0,'model'])\n",
    "plt.show()"
   ]
  },
  {
   "cell_type": "code",
   "execution_count": null,
   "id": "896cb477",
   "metadata": {},
   "outputs": [],
   "source": [
    "df1.head()"
   ]
  },
  {
   "cell_type": "code",
   "execution_count": null,
   "id": "2dae7d19",
   "metadata": {},
   "outputs": [],
   "source": [
    "plt.figure(figsize=(3,2), dpi=100)\n",
    "x1 = np.array([1,2,3,4,5])\n",
    "y1 = x1 * 2\n",
    "plt.scatter(x=x1, y=y1, color='red', label='linear plot', marker='D')\n",
    "\n",
    "plt.text(3,10,'hello')\n",
    "plt.show()"
   ]
  },
  {
   "cell_type": "code",
   "execution_count": null,
   "id": "ab97c8c1",
   "metadata": {},
   "outputs": [],
   "source": [
    "x1 = np.array([1,2,3,4,5])\n",
    "y1 = x1 * 2\n",
    "print(x1)\n",
    "print(y1)\n",
    "print(list(zip(x1,y1)))\n",
    "plt.scatter(x=x1, y=y1, color='red', label='linear plot', marker='D')\n",
    "\n",
    "for xt,yt in zip(x1,y1):\n",
    "    plt.text(xt,yt, str([xt,yt]))\n",
    "\n",
    "plt.title('Scatter Plot Linear')\n",
    "plt.xlabel('x-axis')\n",
    "plt.ylabel('y-axis')\n",
    "plt.legend()\n",
    "plt.show()"
   ]
  },
  {
   "cell_type": "markdown",
   "id": "d7ba1ea3",
   "metadata": {},
   "source": [
    "# Line Plot"
   ]
  },
  {
   "cell_type": "code",
   "execution_count": null,
   "id": "3a23e529",
   "metadata": {},
   "outputs": [],
   "source": [
    "plt.figure(figsize=(3,2),dpi=100)\n",
    "x1 = np.array([1,2,3,4,5])\n",
    "y1 = x1 * 2\n",
    "y2 = x1 ** 2\n",
    "\n",
    "plt.plot(x1,y1, marker='*', linewidth=1, linestyle='dashed',color='red')\n",
    "plt.plot(x1,y2,marker='D')\n",
    "plt.show()"
   ]
  },
  {
   "cell_type": "code",
   "execution_count": null,
   "id": "86bab1eb",
   "metadata": {},
   "outputs": [],
   "source": [
    "plt.figure(figsize=(3,2),dpi=100)\n",
    "plt.plot(df1.wt, df1.mpg,marker='*')\n",
    "plt.show()"
   ]
  },
  {
   "cell_type": "code",
   "execution_count": null,
   "id": "a8f40b3b",
   "metadata": {},
   "outputs": [],
   "source": [
    "plt.figure(figsize=(3,2),dpi=100)\n",
    "df1[:].plot(kind='line',x='wt',y='mpg', marker='*')\n",
    "plt.show()"
   ]
  },
  {
   "cell_type": "code",
   "execution_count": null,
   "id": "436433dc",
   "metadata": {},
   "outputs": [],
   "source": [
    "df1.head()"
   ]
  },
  {
   "cell_type": "code",
   "execution_count": null,
   "id": "50d39c64",
   "metadata": {},
   "outputs": [],
   "source": [
    "plt.figure(figsize=(3,2),dpi=100)\n",
    "df1.sort_values(by='wt').plot(kind='line',x='wt',y='mpg', marker='*')\n",
    "plt.show()"
   ]
  },
  {
   "cell_type": "code",
   "execution_count": null,
   "id": "8f4a254a",
   "metadata": {},
   "outputs": [],
   "source": [
    "plt.figure(figsize=(3,2),dpi=100)\n",
    "plt.plot(df1.sort_values(by='wt').wt, df1.sort_values(by='wt').mpg)\n",
    "plt.show()"
   ]
  },
  {
   "cell_type": "markdown",
   "id": "fe29139c",
   "metadata": {},
   "source": [
    "# Bar Plot"
   ]
  },
  {
   "cell_type": "code",
   "execution_count": null,
   "id": "ac6602d0",
   "metadata": {},
   "outputs": [],
   "source": [
    "plt.figure(figsize=(3,2),dpi=100)\n",
    "cnames = ['Tata', 'Birla','Wipro','Infy']\n",
    "e1count = [100,200,300,400]\n",
    "e2count = [100,150,350,450]\n",
    "\n",
    "plt.bar(x=cnames, height=e1count,color='red')\n",
    "plt.bar(x=cnames, height=e2count,bottom=e1count,color='blue')\n",
    "plt.show()"
   ]
  },
  {
   "cell_type": "code",
   "execution_count": null,
   "id": "5c58c47e",
   "metadata": {},
   "outputs": [],
   "source": [
    "vc = df1.gear.value_counts()\n",
    "vc"
   ]
  },
  {
   "cell_type": "code",
   "execution_count": null,
   "id": "e4a827ed",
   "metadata": {},
   "outputs": [],
   "source": [
    "vc.plot(kind='bar')"
   ]
  },
  {
   "cell_type": "code",
   "execution_count": null,
   "id": "2b128d66",
   "metadata": {},
   "outputs": [],
   "source": [
    "df1.mpg.plot(kind='bar')"
   ]
  },
  {
   "cell_type": "code",
   "execution_count": null,
   "id": "45e37a3f",
   "metadata": {},
   "outputs": [],
   "source": [
    "plt.figure(figsize=(3,2),dpi=100)\n",
    "cnames = ['Tata', 'Birla','Wipro','Infy']\n",
    "e1count = [100,200,300,400]\n",
    "e2count = [100,150,350,450]\n",
    "\n",
    "x1 = np.arange(len(cnames))\n",
    "print(x1)\n",
    "\n",
    "plt.bar(x=x1, height=e1count,color='red', width=0.4)\n",
    "plt.bar(x=x1+0.4, height=e2count,color='blue', width=0.4)\n",
    "plt.xticks(x1+0.2,cnames)\n",
    "plt.show()"
   ]
  },
  {
   "cell_type": "code",
   "execution_count": null,
   "id": "caabe5c6",
   "metadata": {},
   "outputs": [],
   "source": [
    "df1[['hp','disp']].plot(kind='bar', color=['red','green'])"
   ]
  },
  {
   "cell_type": "markdown",
   "id": "b02e85df",
   "metadata": {},
   "source": [
    "# Pie Chart"
   ]
  },
  {
   "cell_type": "code",
   "execution_count": null,
   "id": "60b5f190",
   "metadata": {},
   "outputs": [],
   "source": [
    "vc = df1.gear.value_counts()\n",
    "print(vc)"
   ]
  },
  {
   "cell_type": "code",
   "execution_count": null,
   "id": "58c20cad",
   "metadata": {},
   "outputs": [],
   "source": [
    "plt.pie(x=vc.values, labels=vc.index, autopct='%.2f')\n",
    "plt.show()"
   ]
  },
  {
   "cell_type": "code",
   "execution_count": null,
   "id": "78084261",
   "metadata": {},
   "outputs": [],
   "source": [
    "vc.plot(kind='pie', autopct='%.2f')"
   ]
  },
  {
   "cell_type": "markdown",
   "id": "6e3d5180",
   "metadata": {},
   "source": [
    "# Histogram"
   ]
  },
  {
   "cell_type": "code",
   "execution_count": null,
   "id": "c330789a",
   "metadata": {},
   "outputs": [],
   "source": [
    "np.random.seed(23)\n",
    "marks = np.random.randint(low=0, high=101, size=100)"
   ]
  },
  {
   "cell_type": "code",
   "execution_count": null,
   "id": "df139985",
   "metadata": {},
   "outputs": [],
   "source": [
    "plt.figure(figsize=(3,2),dpi=100)\n",
    "plt.hist(marks,rwidth=0.9)"
   ]
  },
  {
   "cell_type": "code",
   "execution_count": null,
   "id": "063847fd",
   "metadata": {},
   "outputs": [],
   "source": [
    "plt.hist(df1.mpg, rwidth=0.9)"
   ]
  },
  {
   "cell_type": "code",
   "execution_count": null,
   "id": "748e09d4",
   "metadata": {},
   "outputs": [],
   "source": [
    "df1.mpg.plot(kind='hist',rwidth=0.9)"
   ]
  },
  {
   "cell_type": "markdown",
   "id": "15273cf8",
   "metadata": {},
   "source": [
    "# BoxPlot"
   ]
  },
  {
   "cell_type": "code",
   "execution_count": null,
   "id": "71c15444",
   "metadata": {},
   "outputs": [],
   "source": [
    "plt.figure(figsize=(3,2),dpi=100)\n",
    "v1 = list(range(100,200))\n",
    "v1.append(10)\n",
    "v1.append(20)\n",
    "v1.append(400)\n",
    "plt.boxplot(v1)\n",
    "\n",
    "plt.text(1, 123.5, 'hello')\n",
    "plt.show()"
   ]
  },
  {
   "cell_type": "code",
   "execution_count": null,
   "id": "326d48b2",
   "metadata": {},
   "outputs": [],
   "source": [
    "q1 = np.quantile(v1,0.25)\n",
    "q2 = np.quantile(v1,0.5)  ##  median\n",
    "q3 = np.quantile(v1,0.75)\n",
    "iqr = q3 - q1\n",
    "\n",
    "low_fence = q1 - (1.5 * iqr)\n",
    "high_fence = q3 + (1.5 * iqr)\n",
    "\n",
    "print(q1,q2,q3, iqr,low_fence,high_fence)"
   ]
  },
  {
   "cell_type": "code",
   "execution_count": null,
   "id": "415c9e22",
   "metadata": {},
   "outputs": [],
   "source": [
    "np.median(v1)"
   ]
  },
  {
   "cell_type": "code",
   "execution_count": null,
   "id": "dc8c06f4",
   "metadata": {},
   "outputs": [],
   "source": [
    "df1.mpg.plot(kind='box')"
   ]
  },
  {
   "cell_type": "code",
   "execution_count": null,
   "id": "31a165b1",
   "metadata": {},
   "outputs": [],
   "source": [
    "df1.mpg.max()"
   ]
  },
  {
   "cell_type": "code",
   "execution_count": null,
   "id": "6760b9fd",
   "metadata": {},
   "outputs": [],
   "source": [
    "plt.boxplot(df1.mpg)"
   ]
  },
  {
   "cell_type": "markdown",
   "id": "e802dc40",
   "metadata": {},
   "source": [
    "# Scatter Family of Plots"
   ]
  },
  {
   "cell_type": "code",
   "execution_count": null,
   "id": "bf20873b",
   "metadata": {},
   "outputs": [],
   "source": [
    "x1 = [1,2,3,1,2,3,1,2,3]\n",
    "y1 = [4,5,6,4,5,6,4,5,6]"
   ]
  },
  {
   "cell_type": "code",
   "execution_count": null,
   "id": "8ec136f8",
   "metadata": {},
   "outputs": [],
   "source": [
    "plt.figure(figsize=(3,2),dpi=100)\n",
    "sns.scatterplot(x=x1, y=y1)"
   ]
  },
  {
   "cell_type": "code",
   "execution_count": null,
   "id": "17fa76f6",
   "metadata": {},
   "outputs": [],
   "source": [
    "plt.figure(figsize=(3,2),dpi=100)\n",
    "sns.stripplot(x=x1, y=y1)"
   ]
  },
  {
   "cell_type": "code",
   "execution_count": null,
   "id": "3bbc5d62",
   "metadata": {},
   "outputs": [],
   "source": [
    "plt.figure(figsize=(3,2),dpi=100)\n",
    "sns.swarmplot(x=x1, y=y1)"
   ]
  },
  {
   "cell_type": "code",
   "execution_count": null,
   "id": "0972537f",
   "metadata": {},
   "outputs": [],
   "source": [
    "plt.figure(figsize=(3,2),dpi=100)\n",
    "sns.scatterplot(x=df1.gear, y=df1.mpg)"
   ]
  },
  {
   "cell_type": "code",
   "execution_count": null,
   "id": "7909a01b",
   "metadata": {},
   "outputs": [],
   "source": [
    "plt.figure(figsize=(3,2),dpi=100)\n",
    "sns.swarmplot(x=df1.gear, y=df1.mpg, palette='plasma')"
   ]
  },
  {
   "cell_type": "code",
   "execution_count": null,
   "id": "5d6c8413",
   "metadata": {},
   "outputs": [],
   "source": [
    "print(plt.colormaps())"
   ]
  },
  {
   "cell_type": "code",
   "execution_count": null,
   "id": "9205a005",
   "metadata": {},
   "outputs": [],
   "source": [
    "plt.figure(figsize=(4,3),dpi=100)\n",
    "sns.swarmplot(x=df1.gear, y=df1.mpg, hue=df1.gear)"
   ]
  },
  {
   "cell_type": "code",
   "execution_count": null,
   "id": "34d36438",
   "metadata": {},
   "outputs": [],
   "source": [
    "plt.figure(figsize=(4,3),dpi=100)\n",
    "sns.swarmplot(x=df1.gear, y=df1.mpg, hue=df1.am, palette='rainbow')"
   ]
  },
  {
   "cell_type": "code",
   "execution_count": null,
   "id": "132646ee",
   "metadata": {},
   "outputs": [],
   "source": [
    "plt.figure(figsize=(4,3),dpi=100)\n",
    "sns.swarmplot(x=df1.gear, y=df1.mpg, hue=df1.am, palette=['red','blue'])"
   ]
  },
  {
   "cell_type": "markdown",
   "id": "b326ca9c",
   "metadata": {},
   "source": [
    "# Dist Family"
   ]
  },
  {
   "cell_type": "code",
   "execution_count": null,
   "id": "f3f7ab92",
   "metadata": {},
   "outputs": [],
   "source": [
    "plt.figure(figsize=(3,2),dpi=100)\n",
    "sns.distplot(a=df1.mpg)\n",
    "plt.show()"
   ]
  },
  {
   "cell_type": "code",
   "execution_count": null,
   "id": "50804ebd",
   "metadata": {},
   "outputs": [],
   "source": [
    "plt.figure(figsize=(3,2),dpi=100)\n",
    "sns.distplot(a=df1.mpg,hist=False)\n",
    "plt.show()"
   ]
  },
  {
   "cell_type": "code",
   "execution_count": null,
   "id": "163f5def",
   "metadata": {},
   "outputs": [],
   "source": [
    "plt.figure(figsize=(3,2),dpi=100)\n",
    "sns.distplot(a=df1.mpg,kde=False, rug=True)\n",
    "plt.show()"
   ]
  },
  {
   "cell_type": "code",
   "execution_count": null,
   "id": "5cc5ea59",
   "metadata": {},
   "outputs": [],
   "source": [
    "plt.figure(figsize=(3,2),dpi=100)\n",
    "sns.displot(data=df1.mpg)\n",
    "plt.show()"
   ]
  },
  {
   "cell_type": "markdown",
   "id": "9a6819bf",
   "metadata": {},
   "source": [
    "# IQR Plots"
   ]
  },
  {
   "cell_type": "code",
   "execution_count": null,
   "id": "6c1edd8a",
   "metadata": {},
   "outputs": [],
   "source": [
    "sns.boxplot(y=df1.mpg)"
   ]
  },
  {
   "cell_type": "code",
   "execution_count": null,
   "id": "01099a10",
   "metadata": {},
   "outputs": [],
   "source": [
    "sns.boxplot(x=df1.gear, y=df1.mpg)"
   ]
  },
  {
   "cell_type": "code",
   "execution_count": null,
   "id": "f95f1deb",
   "metadata": {},
   "outputs": [],
   "source": [
    "sns.boxplot(x=df1.gear, y=df1.mpg, hue=df1.am)"
   ]
  },
  {
   "cell_type": "code",
   "execution_count": null,
   "id": "52bf33de",
   "metadata": {},
   "outputs": [],
   "source": [
    "sns.boxenplot(x=df1.gear, y=df1.mpg)"
   ]
  },
  {
   "cell_type": "code",
   "execution_count": null,
   "id": "ca859118",
   "metadata": {},
   "outputs": [],
   "source": [
    "marks"
   ]
  },
  {
   "cell_type": "code",
   "execution_count": null,
   "id": "b268c1e5",
   "metadata": {},
   "outputs": [],
   "source": [
    "sns.boxenplot(marks)  ##  for more quantiles."
   ]
  },
  {
   "cell_type": "code",
   "execution_count": null,
   "id": "86478c99",
   "metadata": {},
   "outputs": [],
   "source": [
    "np.quantile(marks,0.5)"
   ]
  },
  {
   "cell_type": "code",
   "execution_count": null,
   "id": "ef3de76c",
   "metadata": {},
   "outputs": [],
   "source": [
    "sns.violinplot(y=df1.mpg)"
   ]
  },
  {
   "cell_type": "code",
   "execution_count": null,
   "id": "683454f4",
   "metadata": {},
   "outputs": [],
   "source": [
    "sns.violinplot(x=df1.gear, y=df1.mpg)"
   ]
  },
  {
   "cell_type": "markdown",
   "id": "bf33addb",
   "metadata": {},
   "source": [
    "# Regression Plot"
   ]
  },
  {
   "cell_type": "code",
   "execution_count": null,
   "id": "447fe5e6",
   "metadata": {},
   "outputs": [],
   "source": [
    "sns.regplot(x=df1.wt, y=df1.mpg)"
   ]
  },
  {
   "cell_type": "markdown",
   "id": "203ee7cb",
   "metadata": {},
   "source": [
    "# Multi Plots"
   ]
  },
  {
   "cell_type": "code",
   "execution_count": null,
   "id": "d6201395",
   "metadata": {},
   "outputs": [],
   "source": [
    "sns.jointplot(x=df1.wt, y=df1.mpg)"
   ]
  },
  {
   "cell_type": "code",
   "execution_count": null,
   "id": "478dfca7",
   "metadata": {},
   "outputs": [],
   "source": [
    "df2 = df1[['wt','mpg','hp','disp']]\n",
    "sns.pairplot(df2)"
   ]
  },
  {
   "cell_type": "code",
   "execution_count": null,
   "id": "eafe5369",
   "metadata": {},
   "outputs": [],
   "source": [
    "cmat = df1.corr()\n",
    "cmat"
   ]
  },
  {
   "cell_type": "code",
   "execution_count": null,
   "id": "3c45a744",
   "metadata": {},
   "outputs": [],
   "source": [
    "plt.figure(figsize=(6,4),dpi=100)\n",
    "sns.heatmap(cmat,annot=True)"
   ]
  },
  {
   "cell_type": "code",
   "execution_count": null,
   "id": "44b4224f",
   "metadata": {},
   "outputs": [],
   "source": [
    "plt.figure(figsize=(6,4),dpi=100)\n",
    "sns.heatmap(cmat,annot=True, cmap='rainbow')"
   ]
  },
  {
   "cell_type": "markdown",
   "id": "b25727c3",
   "metadata": {},
   "source": [
    "# Barplot"
   ]
  },
  {
   "cell_type": "code",
   "execution_count": null,
   "id": "22b9a689",
   "metadata": {},
   "outputs": [],
   "source": [
    "plt.figure(figsize=(6,4),dpi=100)\n",
    "sns.barplot(y=df1.mpg)  ##  statistical using boot strapping"
   ]
  },
  {
   "cell_type": "code",
   "execution_count": null,
   "id": "d22456c5",
   "metadata": {},
   "outputs": [],
   "source": []
  }
 ],
 "metadata": {
  "kernelspec": {
   "display_name": "Python 3 (ipykernel)",
   "language": "python",
   "name": "python3"
  },
  "language_info": {
   "codemirror_mode": {
    "name": "ipython",
    "version": 3
   },
   "file_extension": ".py",
   "mimetype": "text/x-python",
   "name": "python",
   "nbconvert_exporter": "python",
   "pygments_lexer": "ipython3",
   "version": "3.9.7"
  }
 },
 "nbformat": 4,
 "nbformat_minor": 5
}
